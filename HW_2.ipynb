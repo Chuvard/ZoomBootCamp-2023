{
 "cells": [
  {
   "cell_type": "markdown",
   "metadata": {},
   "source": [
    "## Import liabraries"
   ]
  },
  {
   "cell_type": "code",
   "execution_count": 10,
   "metadata": {},
   "outputs": [],
   "source": [
    "## Import required frameworks\n",
    "import pandas as pd\n",
    "import numpy as np\n",
    "from sklearn.model_selection import train_test_split"
   ]
  },
  {
   "cell_type": "markdown",
   "metadata": {},
   "source": [
    "## Import 'housing.csv' data set"
   ]
  },
  {
   "cell_type": "code",
   "execution_count": 11,
   "metadata": {},
   "outputs": [
    {
     "name": "stdout",
     "output_type": "stream",
     "text": [
      "     longitude  latitude  housing_median_age  total_rooms  total_bedrooms  \\\n",
      "701    -121.97     37.64                32.0       1283.0           194.0   \n",
      "830    -121.99     37.61                 9.0       3666.0           711.0   \n",
      "859    -121.97     37.57                21.0       4342.0           783.0   \n",
      "860    -121.96     37.58                15.0       3575.0           597.0   \n",
      "861    -121.98     37.58                20.0       4126.0          1031.0   \n",
      "\n",
      "     population  households  median_income  median_house_value  \n",
      "701       485.0       171.0         6.0574            431000.0  \n",
      "830      2341.0       703.0         4.6458            217000.0  \n",
      "859      2172.0       789.0         4.6146            247600.0  \n",
      "860      1777.0       559.0         5.7192            283500.0  \n",
      "861      2079.0       975.0         3.6832            216900.0  \n"
     ]
    }
   ],
   "source": [
    "# Load the 'housing.csv' file to the Data Frame\n",
    "csv_file = 'housing.csv'\n",
    "df_original = pd.read_csv(csv_file, delimiter=',')\n",
    "\n",
    "# Show the columns names\n",
    "columns = list(df_original.columns)\n",
    "# print(columns)                            #   Uncomment to get the columns' names\n",
    "\n",
    "# Create a list of the allowed 'ocean_proximity' values\n",
    "allowed_values = [\"<1H OCEAN\", \"INLAND\"]\n",
    "\n",
    "# Create new filtered DataFrame with respect to houses located near bay or 1 hour away from it\n",
    "df_filted = df_original[df_original['ocean_proximity'].isin(allowed_values)]\n",
    "\n",
    "# Drop the 'ocean_proximity' column from the filtered 'df_filted' Data Frame\n",
    "df = df_filted.drop(columns=['ocean_proximity'])\n",
    "\n",
    "# Make an overview of the data from the filtered DataFrame 'df_original'\n",
    "print(df.head())"
   ]
  },
  {
   "cell_type": "markdown",
   "metadata": {},
   "source": [
    "## Question 1\n",
    "Check the missing values among each of the Data Frame's ('df') columns"
   ]
  },
  {
   "cell_type": "code",
   "execution_count": 12,
   "metadata": {},
   "outputs": [
    {
     "name": "stdout",
     "output_type": "stream",
     "text": [
      "longitude               0\n",
      "latitude                0\n",
      "housing_median_age      0\n",
      "total_rooms             0\n",
      "total_bedrooms        157\n",
      "population              0\n",
      "households              0\n",
      "median_income           0\n",
      "median_house_value      0\n",
      "dtype: int64\n"
     ]
    }
   ],
   "source": [
    "# Check missing data in Housing DataFrame's columns\n",
    "print(df.isnull().sum())"
   ]
  },
  {
   "cell_type": "markdown",
   "metadata": {},
   "source": [
    "## Answer for Question 1: The column called 'total_bedrooms' has 157 missing values [15,530 exists over 15,687]"
   ]
  },
  {
   "cell_type": "markdown",
   "metadata": {},
   "source": [
    "## Question 2\n",
    "Compute the median (50% percentile) for variable 'population' "
   ]
  },
  {
   "cell_type": "code",
   "execution_count": 13,
   "metadata": {},
   "outputs": [
    {
     "name": "stdout",
     "output_type": "stream",
     "text": [
      "1195.0\n"
     ]
    }
   ],
   "source": [
    "population_median = df.population.median()\n",
    "print(population_median)"
   ]
  },
  {
   "cell_type": "code",
   "execution_count": 14,
   "metadata": {},
   "outputs": [],
   "source": [
    "# Split the data into train/val/test sets (60%/20%/20% distribution)\n",
    "n = len(df)\n",
    "\n",
    "# Compute the proportions for 'training' / 'validation' / 'test'\n",
    "n_val = int(n * 0.2)\n",
    "n_test = int(n * 0.2)\n",
    "n_train = n - n_val - n_test\n",
    "\n",
    "# Create 'training' / 'validation' / 'test' data sets\n",
    "df_train = df.iloc[:n_train]\n",
    "df_val = df.iloc[n_train:n_train+n_val]\n",
    "df_test = df.iloc[n_train+n_val:]\n",
    "\n",
    "# Set seed for reproducibility\n",
    "idx = np.arange(n)\n",
    "seed_number = 42\n",
    "\n",
    "# Shuffle the DataFrame\n",
    "np.random.seed(seed_number)\n",
    "np.random.shuffle(idx)\n",
    "\n",
    "# Shuffle indexes for 'training' / 'validation' / 'test' data sets\n",
    "df_train = df.iloc[idx[:n_train]]\n",
    "df_val = df.iloc[idx[n_train:n_train+n_val]]\n",
    "df_test = df.iloc[idx[n_train+n_val:]]\n",
    "\n",
    "# Reset indexes for 'training' / 'validation' / 'test' data sets by shuffling them\n",
    "df_train = df_train.reset_index(drop=True)\n",
    "df_val = df_val.reset_index(drop=True)\n",
    "df_test = df_test.reset_index(drop=True)\n",
    "\n",
    "# Apply the log transformation to the 'median_house_value' variable and set it to \"y\" varaible\n",
    "y_train = np.log1p(df_train.median_house_value.values)\n",
    "y_val = np.log1p(df_val.median_house_value.values)\n",
    "y_test = np.log1p(df_test.median_house_value.values)\n",
    "\n",
    "# Delete 'median_house_value' as a target value in the 'training' / 'validation' / 'test' data sets \n",
    "del df_train['median_house_value']\n",
    "del df_val['median_house_value']\n",
    "del df_test['median_house_value']"
   ]
  },
  {
   "cell_type": "markdown",
   "metadata": {},
   "source": [
    "## Answer for Question 2: The median for column called 'population' equal to 1195"
   ]
  },
  {
   "cell_type": "markdown",
   "metadata": {},
   "source": [
    "## Question 3\n",
    "Check the best techniques (fill all with 0 / fill with mean) to fill the missing values for 'total_bedrooms'"
   ]
  },
  {
   "cell_type": "code",
   "execution_count": 52,
   "metadata": {},
   "outputs": [],
   "source": [
    "# Define a formula to calculate the 'X' matrix\n",
    "base = ['longitude', 'latitude', 'housing_median_age', 'total_rooms', 'total_bedrooms', 'population', 'households', 'median_income']\n",
    "\n",
    "# Fill missing data in 'total_bedrooms' with the '0' number\n",
    "def prepare_X(df):\n",
    "    df_num = df[base]\n",
    "    df_num = df_num.fillna(0)\n",
    "    X = df_num.values\n",
    "    return X"
   ]
  },
  {
   "cell_type": "code",
   "execution_count": 53,
   "metadata": {},
   "outputs": [],
   "source": [
    "# Define a formula for computing coefficients for the Linear Regression Model\n",
    "def train_linear_regression(X, y):\n",
    "    ones = np.ones(X.shape[0])\n",
    "    X = np.column_stack([ones, X])\n",
    "\n",
    "    XTX = X.T.dot(X)\n",
    "    XTX_inv = np.linalg.inv(XTX)\n",
    "    w_full = XTX_inv.dot(X.T).dot(y)\n",
    "    \n",
    "    return w_full[0], w_full[1:]"
   ]
  },
  {
   "cell_type": "code",
   "execution_count": 54,
   "metadata": {},
   "outputs": [],
   "source": [
    "# Define the formula for the Root Mean Squere Error (RMSE)\n",
    "def rmse(y, y_pred):\n",
    "    se = (y - y_pred) ** 2\n",
    "    mse = se.mean()\n",
    "    return np.sqrt(mse)"
   ]
  },
  {
   "cell_type": "markdown",
   "metadata": {},
   "source": [
    "### Option 1. Construct the Linear Regression Model and compute the Root Mean Squere Error (RMSE) by filling the \"0\" to the missing values for the 'total_bedrooms' column"
   ]
  },
  {
   "cell_type": "code",
   "execution_count": 55,
   "metadata": {},
   "outputs": [
    {
     "name": "stdout",
     "output_type": "stream",
     "text": [
      "0.34\n"
     ]
    }
   ],
   "source": [
    "## Option 1. Fill the 0 to the missing data for 'total_bedrooms'\n",
    "\n",
    "# 1. Compute the 'X train' matrix to train the model\n",
    "X_train = prepare_X(df_train)\n",
    "\n",
    "# 2. Compute the coeffficients for the linear regression model\n",
    "w_0, w = train_linear_regression(X_train, y_train)\n",
    "\n",
    "# 3. Compute the 'X validation' matrix to evaluate the model\n",
    "X_val = prepare_X(df_val)\n",
    "\n",
    "# 4. Predict the values for the median_house_value using thr validation data set\n",
    "y_pred = w_0 + X_val.dot(w)\n",
    "\n",
    "# 5. Compute the Root Mean Squared Error (RMSE)\n",
    "print(round(rmse(y_val, y_pred), 2))"
   ]
  },
  {
   "cell_type": "markdown",
   "metadata": {},
   "source": [
    "### Option 2. Construct the Linear Regression Model and compute the Root Mean Squere Error (RMSE) by filling the \"MEAN\" to the missing values for the 'total_bedrooms' column"
   ]
  },
  {
   "cell_type": "code",
   "execution_count": 37,
   "metadata": {},
   "outputs": [],
   "source": [
    "# Define a formula to calculate the 'X' matrix\n",
    "base = ['longitude', 'latitude', 'housing_median_age', 'total_rooms', 'total_bedrooms', 'population', 'households', 'median_income']\n",
    "\n",
    "# Fill missing data in 'total_bedrooms' with the mean\n",
    "mean_median_house_value = y_train.mean()\n",
    "\n",
    "def prepare_X(df):\n",
    "    df_num = df[base]\n",
    "    df_num = df_num.fillna(mean_median_house_value)\n",
    "    X = df_num.values\n",
    "    return X"
   ]
  },
  {
   "cell_type": "code",
   "execution_count": 38,
   "metadata": {},
   "outputs": [],
   "source": [
    "# Define a formula for computing coefficients for the Linear Regression Model\n",
    "def train_linear_regression(X, y):\n",
    "    ones = np.ones(X.shape[0])\n",
    "    X = np.column_stack([ones, X])\n",
    "\n",
    "    XTX = X.T.dot(X)\n",
    "    XTX_inv = np.linalg.inv(XTX)\n",
    "    w_full = XTX_inv.dot(X.T).dot(y)\n",
    "    \n",
    "    return w_full[0], w_full[1:]"
   ]
  },
  {
   "cell_type": "code",
   "execution_count": 39,
   "metadata": {},
   "outputs": [],
   "source": [
    "# Define the formula for the Root Mean Squere Error (RMSE)\n",
    "def rmse(y, y_pred):\n",
    "    se = (y - y_pred) ** 2\n",
    "    mse = se.mean()\n",
    "    return np.sqrt(mse)"
   ]
  },
  {
   "cell_type": "code",
   "execution_count": 40,
   "metadata": {},
   "outputs": [
    {
     "name": "stdout",
     "output_type": "stream",
     "text": [
      "0.34\n"
     ]
    }
   ],
   "source": [
    "## Option 2. Fill the median to the missing data for 'total_bedrooms'\n",
    "\n",
    "# 1. Compute the 'X train' matrix to train the model\n",
    "X_train = prepare_X(df_train)\n",
    "\n",
    "# 2. Compute the coeffficients for the linear regression model\n",
    "w_0, w = train_linear_regression(X_train, y_train)\n",
    "\n",
    "# 3. Compute the 'X validation' matrix to evaluate the model\n",
    "X_val = prepare_X(df_val)\n",
    "\n",
    "# 4. Predict the values for the median_house_value using thr validation data set\n",
    "y_pred = w_0 + X_val.dot(w)\n",
    "\n",
    "# 5. Compute the Root Mean Squared Error (RMSE)\n",
    "print(round(rmse(y_val, y_pred), 2))"
   ]
  },
  {
   "cell_type": "markdown",
   "metadata": {},
   "source": [
    "## Answer for Question 3: Using both \"0\" and \"MEAN\" to fill the missing value for the 'total_bedrooms' are equally good to use"
   ]
  },
  {
   "cell_type": "markdown",
   "metadata": {},
   "source": [
    "## Question 4\n",
    "\n",
    "Find the minimum 'regularization parameter' for the Linear Regression Model"
   ]
  },
  {
   "cell_type": "code",
   "execution_count": 56,
   "metadata": {},
   "outputs": [],
   "source": [
    "# Define a formula to calculate the 'X' matrix\n",
    "base = ['longitude', 'latitude', 'housing_median_age', 'total_rooms', 'total_bedrooms', 'population', 'households', 'median_income']\n",
    "\n",
    "# Fill missing data in 'total_bedrooms' with the '0' number\n",
    "def prepare_X(df):\n",
    "    df_num = df[base]\n",
    "    df_num = df_num.fillna(0)\n",
    "    X = df_num.values\n",
    "    return X"
   ]
  },
  {
   "cell_type": "code",
   "execution_count": 57,
   "metadata": {},
   "outputs": [],
   "source": [
    "# Define a formula for computing coefficients for the Linear Regression Model with regularization term\n",
    "def train_linear_regression_reg(X, y, r=0.001):\n",
    "    ones = np.ones(X.shape[0])\n",
    "    X = np.column_stack([ones, X])\n",
    "\n",
    "    XTX = X.T.dot(X)\n",
    "    XTX = XTX + r * np.eye(XTX.shape[0])\n",
    "\n",
    "    XTX_inv = np.linalg.inv(XTX)\n",
    "    w_full = XTX_inv.dot(X.T).dot(y)\n",
    "    \n",
    "    return w_full[0], w_full[1:]"
   ]
  },
  {
   "cell_type": "code",
   "execution_count": 58,
   "metadata": {},
   "outputs": [],
   "source": [
    "# Define the formula for the Root Mean Squere Error (RMSE)\n",
    "def rmse(y, y_pred):\n",
    "    se = (y - y_pred) ** 2\n",
    "    mse = se.mean()\n",
    "    return np.sqrt(mse)"
   ]
  },
  {
   "cell_type": "markdown",
   "metadata": {},
   "source": [
    "###  Construct the Linear Regression Model with regularization term and compute the Root Mean Squere Error (RMSE) by filling the \"0\" to the missing values for the 'total_bedrooms' column"
   ]
  },
  {
   "cell_type": "code",
   "execution_count": 59,
   "metadata": {},
   "outputs": [
    {
     "name": "stdout",
     "output_type": "stream",
     "text": [
      "0.0 -9.763249477709273 0.3408479034133711\n",
      "1e-05 -9.763043013880937 0.3408479310606026\n",
      "0.0001 -9.761185235537457 0.3408481800530103\n",
      "0.001 -9.742646249218538 0.340850692187126\n",
      "0.1 -8.058889769445528 0.34128620420007866\n",
      "1 -3.1331542783183215 0.34489583276493896\n",
      "10 -0.4381172315471025 0.34831498335199945\n"
     ]
    }
   ],
   "source": [
    "# Find the minimum RMSE using regularization parameter (r = 0.0 / 0.000001 / 0.0001 / 0.001 / 0.01 / 0.1 / 1 / 5 / 10) to the Linear Regresssion Model \n",
    "\n",
    "for r in [0.0, 0.00001, 0.0001, 0.001, 0.1, 1, 10]:\n",
    "    X_train = prepare_X(df_train)\n",
    "    w_0, w = train_linear_regression_reg(X_train, y_train, r=r)\n",
    "\n",
    "    X_val = prepare_X(df_val)\n",
    "    y_pred = w_0 + X_val.dot(w)\n",
    "    score = rmse(y_val, y_pred)\n",
    "    \n",
    "    print(r, w_0, score)"
   ]
  },
  {
   "cell_type": "markdown",
   "metadata": {},
   "source": [
    "## Answer for Question 4: The best 'regularization parameter' for the Linear Regression Model, resulting in the lowest RMSE, is '0'"
   ]
  },
  {
   "cell_type": "markdown",
   "metadata": {},
   "source": [
    "## Question 5\n",
    "\n",
    "Find the most stable Linear Regression Model based on standard deviation of RMSEs' scores (use different seed values)"
   ]
  },
  {
   "cell_type": "code",
   "execution_count": 61,
   "metadata": {},
   "outputs": [],
   "source": [
    "# Define a formula to calculate the 'X' matrix\n",
    "base = ['longitude', 'latitude', 'housing_median_age', 'total_rooms', 'total_bedrooms', 'population', 'households', 'median_income']\n",
    "\n",
    "# Fill missing data in 'total_bedrooms' with the '0' number\n",
    "def prepare_X(df):\n",
    "    df_num = df[base]\n",
    "    df_num = df_num.fillna(0)\n",
    "    X = df_num.values\n",
    "    return X\n",
    "\n",
    "\n",
    "# Define a formula for computing coefficients for the Linear Regression Model\n",
    "def train_linear_regression(X, y):\n",
    "    ones = np.ones(X.shape[0])\n",
    "    X = np.column_stack([ones, X])\n",
    "\n",
    "    XTX = X.T.dot(X)\n",
    "    XTX_inv = np.linalg.inv(XTX)\n",
    "    w_full = XTX_inv.dot(X.T).dot(y)\n",
    "    \n",
    "    return w_full[0], w_full[1:]\n",
    "\n",
    "\n",
    "# Define the formula for the Root Mean Squere Error (RMSE)\n",
    "def rmse(y, y_pred):\n",
    "    se = (y - y_pred) ** 2\n",
    "    mse = se.mean()\n",
    "    return np.sqrt(mse)"
   ]
  },
  {
   "cell_type": "code",
   "execution_count": 66,
   "metadata": {},
   "outputs": [
    {
     "name": "stdout",
     "output_type": "stream",
     "text": [
      "Seed 0: RMSE = 0.34\n",
      "Seed 1: RMSE = 0.34\n",
      "Seed 2: RMSE = 0.34\n",
      "Seed 3: RMSE = 0.33\n",
      "Seed 4: RMSE = 0.34\n",
      "Seed 5: RMSE = 0.34\n",
      "Seed 6: RMSE = 0.34\n",
      "Seed 7: RMSE = 0.35\n",
      "Seed 8: RMSE = 0.35\n",
      "Seed 9: RMSE = 0.33\n",
      "Standard Deviation of RMSE: 0.005\n"
     ]
    }
   ],
   "source": [
    "# Lists to store RMSE values for each seed\n",
    "rmse_values = []\n",
    "\n",
    "# Seed values to loop through\n",
    "seed_values = [0, 1, 2, 3, 4, 5, 6, 7, 8, 9]\n",
    "\n",
    "# Loop through each seed value\n",
    "for seed_number in seed_values:\n",
    "    # Split the data into train/val/test sets (60%/20%/20% distribution)\n",
    "    n = len(df)\n",
    "    n_val = int(n * 0.2)\n",
    "    n_test = int(n * 0.2)\n",
    "    n_train = n - n_val - n_test\n",
    "\n",
    "    idx = np.arange(n)\n",
    "\n",
    "    # Shuffle the DataFrame\n",
    "    np.random.seed(seed_number)\n",
    "    np.random.shuffle(idx)\n",
    "\n",
    "    # Shuffle indexes for 'training' / 'validation' / 'test' data sets\n",
    "    df_train = df.iloc[idx[:n_train]]\n",
    "    df_val = df.iloc[idx[n_train:n_train + n_val]]\n",
    "    df_test = df.iloc[idx[n_train + n_val:]]\n",
    "\n",
    "    # Reset indexes for 'training' / 'validation' / 'test' data sets by shuffling them\n",
    "    df_train = df_train.reset_index(drop=True)\n",
    "    df_val = df_val.reset_index(drop=True)\n",
    "    df_test = df_test.reset_index(drop=True)\n",
    "\n",
    "    # Apply the log transformation to the 'median_house_value' variable and set it to \"y\" variable\n",
    "    y_train = np.log1p(df_train.median_house_value.values)\n",
    "    y_val = np.log1p(df_val.median_house_value.values)\n",
    "    y_test = np.log1p(df_test.median_house_value.values)\n",
    "\n",
    "    # Delete 'median_house_value' as a target value in the 'training' / 'validation' / 'test' data sets\n",
    "    del df_train['median_house_value']\n",
    "    del df_val['median_house_value']\n",
    "    del df_test['median_house_value']\n",
    "\n",
    "    # 1. Compute the 'X train' matrix to train the model\n",
    "    X_train = prepare_X(df_train)\n",
    "\n",
    "    # 2. Compute the coefficients for the linear regression model\n",
    "    w_0, w = train_linear_regression(X_train, y_train)\n",
    "\n",
    "    # 3. Compute the 'X validation' matrix to evaluate the model\n",
    "    X_val = prepare_X(df_val)\n",
    "\n",
    "    # 4. Predict the values for the median_house_value using the validation data set\n",
    "    y_pred = w_0 + X_val.dot(w)\n",
    "\n",
    "    # 5. Compute the Root Mean Squared Error (RMSE) for this seed\n",
    "    rmse_score = rmse(y_val, y_pred)\n",
    "\n",
    "    # 6. Append the RMSE value to the list\n",
    "    rmse_values.append(rmse_score)\n",
    "\n",
    "\n",
    "# Calculate the standard deviation of RMSE values\n",
    "std_deviation_rmse = np.std(rmse_values)    \n",
    "\n",
    "\n",
    "# Print the RMSE values and standard deviation\n",
    "for i, seed_number in enumerate(seed_values):\n",
    "    print(f\"Seed {seed_number}: RMSE = {round(rmse_values[i], 2)}\")\n",
    "\n",
    "print(f\"Standard Deviation of RMSE: {round(std_deviation_rmse, 3)}\")"
   ]
  },
  {
   "cell_type": "markdown",
   "metadata": {},
   "source": [
    "## Answer for Question 5: The standard deviation between the RMSE scores for the Linear Regression Model is '0.005'"
   ]
  },
  {
   "cell_type": "markdown",
   "metadata": {},
   "source": [
    "## Question 6\n",
    "\n",
    "Find the RMSE score from the joined training and validation data sets for Linear Regression Model"
   ]
  },
  {
   "cell_type": "code",
   "execution_count": 68,
   "metadata": {},
   "outputs": [],
   "source": [
    "# Split the data into train/val/test sets (60%/20%/20% distribution)\n",
    "n = len(df)\n",
    "\n",
    "# Compute the proportions for 'training' / 'validation' / 'test'\n",
    "n_val = int(n * 0.2)\n",
    "n_test = int(n * 0.2)\n",
    "n_train = n - n_val - n_test\n",
    "\n",
    "# Create 'training' / 'validation' / 'test' data sets\n",
    "df_train = df.iloc[:n_train]\n",
    "df_val = df.iloc[n_train:n_train+n_val]\n",
    "df_test = df.iloc[n_train+n_val:]\n",
    "\n",
    "# Set seed for reproducibility\n",
    "idx = np.arange(n)\n",
    "seed_number = 9\n",
    "\n",
    "# Shuffle the DataFrame\n",
    "np.random.seed(seed_number)\n",
    "np.random.shuffle(idx)\n",
    "\n",
    "# Shuffle indexes for 'training' / 'validation' / 'test' data sets\n",
    "df_train = df.iloc[idx[:n_train]]\n",
    "df_val = df.iloc[idx[n_train:n_train+n_val]]\n",
    "df_test = df.iloc[idx[n_train+n_val:]]\n",
    "\n",
    "# Reset indexes for 'training' / 'validation' / 'test' data sets by shuffling them\n",
    "df_train = df_train.reset_index(drop=True)\n",
    "df_val = df_val.reset_index(drop=True)\n",
    "df_test = df_test.reset_index(drop=True)\n",
    "\n",
    "# Apply the log transformation to the 'median_house_value' variable and set it to \"y\" varaible\n",
    "y_train = np.log1p(df_train.median_house_value.values)\n",
    "y_val = np.log1p(df_val.median_house_value.values)\n",
    "y_test = np.log1p(df_test.median_house_value.values)\n",
    "\n",
    "# Delete 'median_house_value' as a target value in the 'training' / 'validation' / 'test' data sets \n",
    "del df_train['median_house_value']\n",
    "del df_val['median_house_value']\n",
    "del df_test['median_house_value']"
   ]
  },
  {
   "cell_type": "code",
   "execution_count": 69,
   "metadata": {},
   "outputs": [
    {
     "name": "stdout",
     "output_type": "stream",
     "text": [
      "RMSE for r=0.001: 0.33\n"
     ]
    }
   ],
   "source": [
    "# Combine the 'df_train' and 'df_val' DataFrames\n",
    "df_train_val = pd.concat([df_train, df_val], axis=0).reset_index(drop=True)\n",
    "\n",
    "# Combine the 'y_train' and 'y_val' arrays\n",
    "y_train_val = np.concatenate([y_train, y_val])\n",
    "\n",
    "# Define a formula to calculate the 'X' matrix\n",
    "base = ['longitude', 'latitude', 'housing_median_age', 'total_rooms', 'total_bedrooms', 'population', 'households', 'median_income']\n",
    "\n",
    "# Fill missing data in 'total_bedrooms' with the '0' number\n",
    "def prepare_X(df):\n",
    "    df_num = df[base]\n",
    "    df_num = df_num.fillna(0)\n",
    "    X = df_num.values\n",
    "    return X\n",
    "\n",
    "# Define a formula for computing coefficients for the Linear Regression Model with regularization term\n",
    "def train_linear_regression_reg(X, y, r=0.001):\n",
    "    ones = np.ones(X.shape[0])\n",
    "    X = np.column_stack([ones, X])\n",
    "\n",
    "    XTX = X.T.dot(X)\n",
    "    XTX = XTX + r * np.eye(XTX.shape[0])\n",
    "\n",
    "    XTX_inv = np.linalg.inv(XTX)\n",
    "    w_full = XTX_inv.dot(X.T).dot(y)\n",
    "\n",
    "    return w_full[0], w_full[1:]\n",
    "\n",
    "# Combine the training and validation data\n",
    "X_train_val = prepare_X(df_train_val)\n",
    "\n",
    "# Compute the coefficients for the linear regression model with regularization\n",
    "r = 0.001\n",
    "w_0, w = train_linear_regression_reg(X_train_val, y_train_val, r=r)\n",
    "\n",
    "# Prepare the validation data\n",
    "X_val = prepare_X(df_val)\n",
    "\n",
    "# Predict the values for the median_house_value using the validation data set\n",
    "y_pred = w_0 + X_val.dot(w)\n",
    "\n",
    "# Compute the Root Mean Squared Error (RMSE)\n",
    "score = rmse(y_val, y_pred)\n",
    "\n",
    "print(f\"RMSE for r={r}: {round(score, 2)}\")"
   ]
  },
  {
   "cell_type": "markdown",
   "metadata": {},
   "source": [
    "## Answer for Question 6: The RMSE score for the Linear Regression Model from joined training and validation data sets is '0.33'"
   ]
  }
 ],
 "metadata": {
  "kernelspec": {
   "display_name": "Python 3",
   "language": "python",
   "name": "python3"
  },
  "language_info": {
   "codemirror_mode": {
    "name": "ipython",
    "version": 3
   },
   "file_extension": ".py",
   "mimetype": "text/x-python",
   "name": "python",
   "nbconvert_exporter": "python",
   "pygments_lexer": "ipython3",
   "version": "3.11.2"
  },
  "orig_nbformat": 4
 },
 "nbformat": 4,
 "nbformat_minor": 2
}
