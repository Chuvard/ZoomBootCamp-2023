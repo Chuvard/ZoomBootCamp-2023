{
 "cells": [
  {
   "cell_type": "markdown",
   "metadata": {},
   "source": [
    "## Import liabraries"
   ]
  },
  {
   "cell_type": "code",
   "execution_count": 1,
   "metadata": {},
   "outputs": [],
   "source": [
    "## Import required frameworks\n",
    "import pandas as pd\n",
    "import numpy as np"
   ]
  },
  {
   "cell_type": "markdown",
   "metadata": {},
   "source": [
    "## Question 1"
   ]
  },
  {
   "cell_type": "code",
   "execution_count": 2,
   "metadata": {},
   "outputs": [
    {
     "name": "stdout",
     "output_type": "stream",
     "text": [
      "1.5.3\n"
     ]
    }
   ],
   "source": [
    "## Check the version of Pandas\n",
    "print(pd.__version__)\n",
    "\n",
    "## Answer: 1.5.3"
   ]
  },
  {
   "cell_type": "markdown",
   "metadata": {},
   "source": [
    "### Import 'housing.csv' data set"
   ]
  },
  {
   "cell_type": "code",
   "execution_count": 3,
   "metadata": {},
   "outputs": [
    {
     "name": "stdout",
     "output_type": "stream",
     "text": [
      "   longitude  latitude  housing_median_age  total_rooms  total_bedrooms  \\\n",
      "0    -122.23     37.88                41.0        880.0           129.0   \n",
      "1    -122.22     37.86                21.0       7099.0          1106.0   \n",
      "2    -122.24     37.85                52.0       1467.0           190.0   \n",
      "3    -122.25     37.85                52.0       1274.0           235.0   \n",
      "4    -122.25     37.85                52.0       1627.0           280.0   \n",
      "\n",
      "   population  households  median_income  median_house_value ocean_proximity  \n",
      "0       322.0       126.0         8.3252            452600.0        NEAR BAY  \n",
      "1      2401.0      1138.0         8.3014            358500.0        NEAR BAY  \n",
      "2       496.0       177.0         7.2574            352100.0        NEAR BAY  \n",
      "3       558.0       219.0         5.6431            341300.0        NEAR BAY  \n",
      "4       565.0       259.0         3.8462            342200.0        NEAR BAY  \n"
     ]
    }
   ],
   "source": [
    "csv_file = 'housing.csv'\n",
    "df = pd.read_csv(csv_file, delimiter=',')\n",
    "\n",
    "# Make an overview of the data from DataFrame 'df'\n",
    "print(df.head())"
   ]
  },
  {
   "cell_type": "markdown",
   "metadata": {},
   "source": [
    "## Question 2"
   ]
  },
  {
   "cell_type": "code",
   "execution_count": 4,
   "metadata": {},
   "outputs": [
    {
     "name": "stdout",
     "output_type": "stream",
     "text": [
      "10\n"
     ]
    }
   ],
   "source": [
    "## Compute the number of columns for Housing DataFrame\n",
    "no_columns = len(df.columns)\n",
    "print(no_columns)\n",
    "\n",
    "## Answer: 10"
   ]
  },
  {
   "cell_type": "markdown",
   "metadata": {},
   "source": [
    "## Question 3"
   ]
  },
  {
   "cell_type": "code",
   "execution_count": 5,
   "metadata": {},
   "outputs": [
    {
     "name": "stdout",
     "output_type": "stream",
     "text": [
      "          longitude      latitude  housing_median_age   total_rooms  \\\n",
      "count  20640.000000  20640.000000        20640.000000  20640.000000   \n",
      "mean    -119.569704     35.631861           28.639486   2635.763081   \n",
      "std        2.003532      2.135952           12.585558   2181.615252   \n",
      "min     -124.350000     32.540000            1.000000      2.000000   \n",
      "25%     -121.800000     33.930000           18.000000   1447.750000   \n",
      "50%     -118.490000     34.260000           29.000000   2127.000000   \n",
      "75%     -118.010000     37.710000           37.000000   3148.000000   \n",
      "max     -114.310000     41.950000           52.000000  39320.000000   \n",
      "\n",
      "       total_bedrooms    population    households  median_income  \\\n",
      "count    20433.000000  20640.000000  20640.000000   20640.000000   \n",
      "mean       537.870553   1425.476744    499.539680       3.870671   \n",
      "std        421.385070   1132.462122    382.329753       1.899822   \n",
      "min          1.000000      3.000000      1.000000       0.499900   \n",
      "25%        296.000000    787.000000    280.000000       2.563400   \n",
      "50%        435.000000   1166.000000    409.000000       3.534800   \n",
      "75%        647.000000   1725.000000    605.000000       4.743250   \n",
      "max       6445.000000  35682.000000   6082.000000      15.000100   \n",
      "\n",
      "       median_house_value  \n",
      "count        20640.000000  \n",
      "mean        206855.816909  \n",
      "std         115395.615874  \n",
      "min          14999.000000  \n",
      "25%         119600.000000  \n",
      "50%         179700.000000  \n",
      "75%         264725.000000  \n",
      "max         500001.000000  \n"
     ]
    }
   ],
   "source": [
    "## Check missing data in Housing DataFrame's columns\n",
    "print(df.describe())\n",
    "\n",
    "## Answer: The column called 'total_bedrooms' has missing data [20,433 exists over 20,640]"
   ]
  },
  {
   "cell_type": "markdown",
   "metadata": {},
   "source": [
    "## Question 4"
   ]
  },
  {
   "cell_type": "code",
   "execution_count": 6,
   "metadata": {},
   "outputs": [
    {
     "name": "stdout",
     "output_type": "stream",
     "text": [
      "5\n"
     ]
    }
   ],
   "source": [
    "## Count the unique values for column 'ocean_proximity'\n",
    "print(len(df.ocean_proximity.unique()))\n",
    "\n",
    "## Answer: The column 'ocean_proximity' has 5 unique values"
   ]
  },
  {
   "cell_type": "markdown",
   "metadata": {},
   "source": [
    "## Question 5"
   ]
  },
  {
   "cell_type": "code",
   "execution_count": 7,
   "metadata": {},
   "outputs": [
    {
     "name": "stdout",
     "output_type": "stream",
     "text": [
      "259212\n"
     ]
    }
   ],
   "source": [
    "## Count the average value for column 'median_house_value' for house those locate near bay\n",
    "\n",
    "# Create new filtered DataFrame with respect to houses locate near bay\n",
    "near_bay_df = df[df['ocean_proximity'] == 'NEAR BAY']\n",
    "\n",
    "# Calculate the average price for houses located near bay\n",
    "avg_house_value = near_bay_df.median_house_value.mean()\n",
    "print(round(avg_house_value))\n",
    "\n",
    "## Anser: The average median price for house near bay equals to '259212'"
   ]
  },
  {
   "cell_type": "markdown",
   "metadata": {},
   "source": [
    "## Question 6"
   ]
  },
  {
   "cell_type": "code",
   "execution_count": 8,
   "metadata": {},
   "outputs": [
    {
     "name": "stdout",
     "output_type": "stream",
     "text": [
      "537.871\n"
     ]
    }
   ],
   "source": [
    "## Comare the average number of total bedrooms for homes (before / after filling the missing data) \n",
    "    \n",
    "\n",
    "    # Step 1. Calculate the average of 'total_bedrooms'\n",
    "avg_total_bebrooms = df.total_bedrooms.mean()\n",
    "# print(round(avg_total_bebrooms, 3))                                                                                           ## Uncomment a line to get an intermediate Answer\n",
    "\n",
    "## Intermediate answer: the average value of total number of bedrooms for houses is 538.871\n",
    "\n",
    "\n",
    "\n",
    "    # Step 2. Fill all missing data (NaN) for column 'total_bedrooms' and calculate those average value\n",
    "# df.total_bedrooms = df.total_bedrooms.fillna(0, inplace=True)                                                                 ## Uncomment a line to fill out all missing values from 'total_bedrooms' column\n",
    "\n",
    "avg_total_bebrooms = df.total_bedrooms.mean()\n",
    "print(round(avg_total_bebrooms, 3))\n",
    "\n",
    "## Answer: after applying .fillna() method the average value of total number of bedrooms for houses has changed from 538.871 to 537.871"
   ]
  },
  {
   "cell_type": "markdown",
   "metadata": {},
   "source": [
    "## Question 7"
   ]
  },
  {
   "cell_type": "code",
   "execution_count": 9,
   "metadata": {},
   "outputs": [
    {
     "name": "stdout",
     "output_type": "stream",
     "text": [
      "Value of the last element of 'w': 5.6992\n"
     ]
    }
   ],
   "source": [
    "    ## Linear algebra manipulations\n",
    "\n",
    "    # Step 1. Create a DataFrame for houses are located only on 'ISLANS'\n",
    "islands_df = df[df['ocean_proximity'] == 'ISLAND']\n",
    "\n",
    "# Make an overview of the data from DataFrame 'islans_df'\n",
    "# print(islands_df.head())\n",
    "\n",
    "    # Step 2. Select columns 'housing_median_age', 'total_rooms', 'total_bedrooms' from DataFrame 'islands_df'\n",
    "selected_columns = ['housing_median_age', 'total_rooms', 'total_bedrooms']\n",
    "selected_df = islands_df[selected_columns]\n",
    "\n",
    "    # Step 3. Compute the underlying NumPy array 'X'\n",
    "X = selected_df.values\n",
    "\n",
    "    # Step 4. Compute the matrix miltiplication between 'X' and 'X-transpose' matrixes\n",
    "XTX = X.T.dot(X)\n",
    "\n",
    "    # Step 5. Compute the inverse matrix of 'XTX'\n",
    "XTX_inverse = np.linalg.inv(XTX)\n",
    "\n",
    "    # Step 6. Create an array 'y'\n",
    "y = np.array([950, 1300, 800, 1000, 1300])\n",
    "\n",
    "    # Step 7. Multiply 'X.T', 'X_inverse' matixes with each other and then multiply with an array 'y'\n",
    "w = XTX_inverse.dot(X.T).dot(y)\n",
    "\n",
    "    # Step 8. Get the last element of 'w' matrix\n",
    "last_w_value = w[-1]\n",
    "\n",
    "print(\"Value of the last element of 'w':\", round(last_w_value, 4))\n",
    "\n",
    "## Anser: The last values for the 'w' matrix with dimentions [1, 3] is '5.6992'"
   ]
  }
 ],
 "metadata": {
  "kernelspec": {
   "display_name": "Python 3",
   "language": "python",
   "name": "python3"
  },
  "language_info": {
   "codemirror_mode": {
    "name": "ipython",
    "version": 3
   },
   "file_extension": ".py",
   "mimetype": "text/x-python",
   "name": "python",
   "nbconvert_exporter": "python",
   "pygments_lexer": "ipython3",
   "version": "3.11.2"
  },
  "orig_nbformat": 4
 },
 "nbformat": 4,
 "nbformat_minor": 2
}
